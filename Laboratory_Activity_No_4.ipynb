{
  "nbformat": 4,
  "nbformat_minor": 0,
  "metadata": {
    "colab": {
      "provenance": [],
      "authorship_tag": "ABX9TyPq484kmeCwdRNfLxVko0UQ",
      "include_colab_link": true
    },
    "kernelspec": {
      "name": "python3",
      "display_name": "Python 3"
    },
    "language_info": {
      "name": "python"
    }
  },
  "cells": [
    {
      "cell_type": "markdown",
      "metadata": {
        "id": "view-in-github",
        "colab_type": "text"
      },
      "source": [
        "<a href=\"https://colab.research.google.com/github/GitGud58009/Group-Lab-Activity-DSAA_GitGud/blob/main/Laboratory_Activity_No_4.ipynb\" target=\"_parent\"><img src=\"https://colab.research.google.com/assets/colab-badge.svg\" alt=\"Open In Colab\"/></a>"
      ]
    },
    {
      "cell_type": "markdown",
      "source": [
        "•\tLet A be an array of size n ≥ 2 containing integers from 1 to n−1, inclusive, with exactly one repeated. Describe a fast algorithm for finding the integer in A that is repeated."
      ],
      "metadata": {
        "id": "iSCJrGEg8uGn"
      }
    },
    {
      "cell_type": "code",
      "source": [
        "import random\n",
        "\n",
        "def findRepeating(A, n):\n",
        "    return sum(A) - (((n - 1) * n) // 2)\n",
        "\n",
        "# Create an array with integers from 1 to n-1 arranged randomly, inclusive, with exactly one repeated\n",
        "n = int(input(\"Array size: \"))\n",
        "if n < 2:\n",
        "  raise ValueError(\"Array size should be at least 2.\")\n",
        "\n",
        "# Duplicate a random element and insert it at a random index\n",
        "A = random.sample(range(1, n), n - 1)\n",
        "A.insert(random.randint(0, n - 1), random.randint(1, n - 1))\n",
        "\n",
        "print(\"Created Array:\", A)\n",
        "print(\"Repeated Integer:\", findRepeating(A, n))"
      ],
      "metadata": {
        "colab": {
          "base_uri": "https://localhost:8080/"
        },
        "id": "6OUUvtvf4SP0",
        "outputId": "fb56a0c8-8017-4b7b-d7db-7734b79ab275"
      },
      "execution_count": null,
      "outputs": [
        {
          "output_type": "stream",
          "name": "stdout",
          "text": [
            "Array size: 5\n",
            "Created Array: [2, 1, 4, 3, 2]\n",
            "Repeated Integer: 2\n"
          ]
        }
      ]
    },
    {
      "cell_type": "code",
      "source": [
        "import random\n",
        "\n",
        "def findRepeating(A, n):\n",
        "  noduplicate = []\n",
        "  for x in A:\n",
        "    if x in noduplicate:\n",
        "      return x\n",
        "    noduplicate.append(x)\n",
        "\n",
        "# Create an array with integers from 1 to n-1 arranged randomly, inclusive, with exactly one repeated\n",
        "n = int(input(\"Array size: \"))\n",
        "if n < 2:\n",
        "  raise ValueError(\"Array size should be at least 2.\")\n",
        "\n",
        "# Duplicate a random element and insert it at a random index\n",
        "A = random.sample(range(1, n), n - 1)\n",
        "A.insert(random.randint(0, n - 1), random.randint(1, n - 1))\n",
        "\n",
        "print(\"Created Array:\", A)\n",
        "print(\"Repeated Integer:\", findRepeating(A, n))"
      ],
      "metadata": {
        "colab": {
          "base_uri": "https://localhost:8080/"
        },
        "id": "UpVFCQ644XmW",
        "outputId": "b6e699d4-6196-41ff-dbd3-6a2885d7c370"
      },
      "execution_count": null,
      "outputs": [
        {
          "output_type": "stream",
          "name": "stdout",
          "text": [
            "Array size: 4\n",
            "Created Array: [1, 1, 3, 2]\n",
            "Repeated Integer: 1\n"
          ]
        }
      ]
    },
    {
      "cell_type": "markdown",
      "source": [
        "•\tWrite a program that can perform the Caesar cipher for English messages that include both upper- and lowercase characters."
      ],
      "metadata": {
        "id": "ONDFaYrI82ln"
      }
    },
    {
      "cell_type": "code",
      "execution_count": 1,
      "metadata": {
        "colab": {
          "base_uri": "https://localhost:8080/"
        },
        "id": "WYl_6vQn3tuJ",
        "outputId": "833d1db2-72a0-41f2-a07c-2dfc4e01fca5"
      },
      "outputs": [
        {
          "output_type": "stream",
          "name": "stdout",
          "text": [
            "Enter text to encrypt:Encrypt TEXT by 3\n",
            "Shift character by: 3\n",
            "Cipher: Hqfubsw WHAW eb 3\n"
          ]
        }
      ],
      "source": [
        "def CeasarCipher(text, offset):\n",
        "  result = []\n",
        "  register = ['a', 'b', 'c', 'd', 'e', 'f', 'g', 'h', 'i', 'j', 'k', 'l', 'm',\n",
        "              'n', 'o', 'p', 'q', 'r', 's', 't', 'u', 'v', 'w', 'x', 'y', 'z',\n",
        "              'A', 'B', 'C', 'D', 'E', 'F', 'G', 'H', 'I', 'J', 'K', 'L', 'M',\n",
        "              'N', 'O', 'P', 'Q', 'R', 'S', 'T', 'U', 'V', 'W', 'X', 'Y', 'Z']\n",
        "\n",
        "  for letter in text:\n",
        "      if letter in register:\n",
        "        inputIndex = register.index(letter)\n",
        "\n",
        "        if letter.islower(): # for lowercase\n",
        "          EncryptionIndex = ((inputIndex + offset) % 26)\n",
        "\n",
        "        else: # for uppercase\n",
        "          EncryptionIndex = ((inputIndex + offset) % 26 + 26)\n",
        "        result.append(register[EncryptionIndex])\n",
        "\n",
        "      else: # for numbers and special characters|not included in the registry\n",
        "        result.append(letter)\n",
        "  return ''.join(result)\n",
        "\n",
        "text =input(\"Enter text to encrypt:\")\n",
        "offset = int(input(\"Shift character by: \"))\n",
        "print (\"Cipher: \" + CeasarCipher(text,offset))"
      ]
    },
    {
      "cell_type": "code",
      "source": [
        "def CeasarCipher(text,s):\n",
        "  result = []\n",
        "\n",
        "  for i in range(len(text)):\n",
        "    char = text[i]\n",
        "    if (char.isupper()): # for uppercase\n",
        "      result.append(chr((ord(char) + s - 65) % 26 + 65))\n",
        "    else: # for lowercase\n",
        "      result.append(chr((ord(char) + s - 97) % 26 + 97))\n",
        "  return ''.join(result)\n",
        "\n",
        "text =input(\"Enter text to encrypt:\")\n",
        "offset = int(input(\"Shift character by: \"))\n",
        "print (\"Cipher: \" + CeasarCipher(text,offset))"
      ],
      "metadata": {
        "colab": {
          "base_uri": "https://localhost:8080/"
        },
        "id": "PF6ps-7045qL",
        "outputId": "137fe73c-06a5-4767-aeb5-a34e106c1448"
      },
      "execution_count": null,
      "outputs": [
        {
          "output_type": "stream",
          "name": "stdout",
          "text": [
            "Enter text to encrypt:Encrypt TEXT by 3\n",
            "Shift character by: 3\n",
            "Cipher: HqfubswqWHAWqebqj\n"
          ]
        }
      ]
    }
  ]
}