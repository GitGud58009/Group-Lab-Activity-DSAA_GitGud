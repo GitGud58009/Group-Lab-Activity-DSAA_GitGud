{
  "nbformat": 4,
  "nbformat_minor": 0,
  "metadata": {
    "colab": {
      "provenance": [],
      "authorship_tag": "ABX9TyMmWMy/BMIclKnxWzxebtqK",
      "include_colab_link": true
    },
    "kernelspec": {
      "name": "python3",
      "display_name": "Python 3"
    },
    "language_info": {
      "name": "python"
    }
  },
  "cells": [
    {
      "cell_type": "markdown",
      "metadata": {
        "id": "view-in-github",
        "colab_type": "text"
      },
      "source": [
        "<a href=\"https://colab.research.google.com/github/GitGud58009/Group-Lab-Activity-DSAA_GitGud/blob/main/DSA_Laboratory7.ipynb\" target=\"_parent\"><img src=\"https://colab.research.google.com/assets/colab-badge.svg\" alt=\"Open In Colab\"/></a>"
      ]
    },
    {
      "cell_type": "code",
      "execution_count": 1,
      "metadata": {
        "id": "TSJIoCvLNKZp",
        "colab": {
          "base_uri": "https://localhost:8080/"
        },
        "outputId": "e9cb9407-ca2d-4f1e-fca4-9747662e5f4f"
      },
      "outputs": [
        {
          "output_type": "stream",
          "name": "stdout",
          "text": [
            "The prime numbers less than 20 are: 2 3 5 7 11 13 17 19 \n",
            "The head of the list is: 2\n",
            "The tail of the list is: 19\n"
          ]
        }
      ],
      "source": [
        "class Node:\n",
        "  def __init__(self, data):\n",
        "    self.data = data\n",
        "    self.next = None\n",
        "\n",
        "class SinglyLinkedList:\n",
        "  def __init__(self):\n",
        "    self.head = None\n",
        "    self.tail = None\n",
        "\n",
        "  def printList(self):\n",
        "    print(\"The prime numbers less than 20 are: \", end =\"\")\n",
        "    current = self.head\n",
        "    while current:\n",
        "      print(current.data, end=\" \")\n",
        "      current = current.next\n",
        "    print(\"\\nThe head of the list is:\",self.head.data)\n",
        "    print(\"The tail of the list is:\",self.tail.data)\n",
        "\n",
        "  def append(self, data):\n",
        "    new_node = Node(data)\n",
        "    if self.head == None:\n",
        "      self.head = new_node\n",
        "    else:\n",
        "      current = self.head\n",
        "      while current.next:\n",
        "        current = current.next\n",
        "      current.next = new_node\n",
        "      new_node.next = None\n",
        "    self.tail = new_node\n",
        "\n",
        "  def primeNum(self):\n",
        "    for num in range(1, 20):\n",
        "      if num > 1:\n",
        "        for i in range(2, int(num**0.5) + 1):\n",
        "          if (num % i) == 0:\n",
        "            break\n",
        "        else:\n",
        "          sllist.append(num)\n",
        "\n",
        "sllist = SinglyLinkedList()\n",
        "sllist.primeNum()\n",
        "sllist.printList()"
      ]
    }
  ]
}