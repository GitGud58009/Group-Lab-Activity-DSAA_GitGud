{
  "nbformat": 4,
  "nbformat_minor": 0,
  "metadata": {
    "colab": {
      "provenance": [],
      "authorship_tag": "ABX9TyPo932fgUSyQp7J5aUO+6c+",
      "include_colab_link": true
    },
    "kernelspec": {
      "name": "python3",
      "display_name": "Python 3"
    },
    "language_info": {
      "name": "python"
    }
  },
  "cells": [
    {
      "cell_type": "markdown",
      "metadata": {
        "id": "view-in-github",
        "colab_type": "text"
      },
      "source": [
        "<a href=\"https://colab.research.google.com/github/GitGud58009/Group-Lab-Activity-DSAA_GitGud/blob/main/DSA_Laboratory_10.ipynb\" target=\"_parent\"><img src=\"https://colab.research.google.com/assets/colab-badge.svg\" alt=\"Open In Colab\"/></a>"
      ]
    },
    {
      "cell_type": "code",
      "execution_count": 1,
      "metadata": {
        "colab": {
          "base_uri": "https://localhost:8080/"
        },
        "id": "FzvbdthsI8hv",
        "outputId": "a35e946d-e815-44a3-e2dd-7b26ef65c5d9"
      },
      "outputs": [
        {
          "output_type": "stream",
          "name": "stdout",
          "text": [
            "Pre-order numbers: [1, 2, 4, 5, 3, 6, 7]\n",
            "In-order numbers: [4, 2, 5, 1, 6, 3, 7]\n",
            "Post-order numbers: [4, 5, 2, 6, 7, 3, 1]\n"
          ]
        }
      ],
      "source": [
        "class TreeNode:\n",
        "    def __init__(self, data):\n",
        "        self.data = data\n",
        "        self.left = None\n",
        "        self.right = None\n",
        "        self.pre_order_number = None\n",
        "        self.in_order_number = None\n",
        "        self.post_order_number = None\n",
        "\n",
        "class BinaryTree:\n",
        "    def __init__(self, root):\n",
        "        self.root = TreeNode(root)\n",
        "\n",
        "class BST(BinaryTree):\n",
        "    def __init__(self):\n",
        "        super().__init__(None)\n",
        "\n",
        "    def preOrderTraversal(self, start, traversal):\n",
        "        if start:\n",
        "            traversal.append(start.data)\n",
        "            traversal = self.preOrderTraversal(start.left, traversal)\n",
        "            traversal = self.preOrderTraversal(start.right, traversal)\n",
        "        return traversal\n",
        "\n",
        "    def inOrderTraversal(self, start, traversal):\n",
        "        if start:\n",
        "            traversal = self.inOrderTraversal(start.left, traversal)\n",
        "            traversal.append(start.data)\n",
        "            traversal = self.inOrderTraversal(start.right, traversal)\n",
        "        return traversal\n",
        "\n",
        "    def postOrderTraversal(self, start, traversal):\n",
        "        if start:\n",
        "            traversal = self.postOrderTraversal(start.left, traversal)\n",
        "            traversal = self.postOrderTraversal(start.right, traversal)\n",
        "            traversal.append(start.data)\n",
        "        return traversal\n",
        "\n",
        "    def preOrderNumber(self, start, counter):\n",
        "        if start:\n",
        "            start.pre_order_number = counter\n",
        "            counter += 1\n",
        "            counter = self.preOrderNumber(start.left, counter)\n",
        "            counter = self.preOrderNumber(start.right, counter)\n",
        "        return counter\n",
        "\n",
        "    def inOrderNumber(self, start, counter):\n",
        "        if start:\n",
        "            counter = self.inOrderNumber(start.left, counter)\n",
        "            start.in_order_number = counter\n",
        "            counter += 1\n",
        "            counter = self.inOrderNumber(start.right, counter)\n",
        "        return counter\n",
        "\n",
        "    def postOrderNumber(self, start, counter):\n",
        "        if start:\n",
        "            counter = self.postOrderNumber(start.left, counter)\n",
        "            counter = self.postOrderNumber(start.right, counter)\n",
        "            start.post_order_number = counter\n",
        "            counter += 1\n",
        "        return counter\n",
        "\n",
        "tree = BST()\n",
        "tree.root = TreeNode(1)\n",
        "tree.root.left = TreeNode(2)\n",
        "tree.root.right = TreeNode(3)\n",
        "tree.root.left.left = TreeNode(4)\n",
        "tree.root.left.right = TreeNode(5)\n",
        "tree.root.right.left = TreeNode(6)\n",
        "tree.root.right.right = TreeNode(7)\n",
        "\n",
        "counter = 1\n",
        "tree.preOrderNumber(tree.root, counter)\n",
        "counter = 1\n",
        "tree.inOrderNumber(tree.root, counter)\n",
        "counter = 1\n",
        "tree.postOrderNumber(tree.root, counter)\n",
        "\n",
        "print(\"Pre-order numbers:\", tree.preOrderTraversal(tree.root, []))\n",
        "print(\"In-order numbers:\", tree.inOrderTraversal(tree.root, []))\n",
        "print(\"Post-order numbers:\", tree.postOrderTraversal(tree.root, []))\n"
      ]
    }
  ]
}