{
  "nbformat": 4,
  "nbformat_minor": 0,
  "metadata": {
    "colab": {
      "provenance": [],
      "authorship_tag": "ABX9TyM0XazGxtDREwzRMCD1Mmq5",
      "include_colab_link": true
    },
    "kernelspec": {
      "name": "python3",
      "display_name": "Python 3"
    },
    "language_info": {
      "name": "python"
    }
  },
  "cells": [
    {
      "cell_type": "markdown",
      "metadata": {
        "id": "view-in-github",
        "colab_type": "text"
      },
      "source": [
        "<a href=\"https://colab.research.google.com/github/GitGud58009/Group-Lab-Activity-DSAA_GitGud/blob/main/DSA_Lab_Report_2.ipynb\" target=\"_parent\"><img src=\"https://colab.research.google.com/assets/colab-badge.svg\" alt=\"Open In Colab\"/></a>"
      ]
    },
    {
      "cell_type": "code",
      "execution_count": 19,
      "metadata": {
        "colab": {
          "base_uri": "https://localhost:8080/"
        },
        "id": "QzbFXKIZ6Z_w",
        "outputId": "b50930e5-ea5f-4768-d212-1da848836f95"
      },
      "outputs": [
        {
          "output_type": "stream",
          "name": "stdout",
          "text": [
            "Enter x:-22\n",
            "f(x): 22.0\n"
          ]
        }
      ],
      "source": [
        "#Methods B\n",
        "x = float(input(\"Enter x:\"))\n",
        "if x < 0:\n",
        "  fx = -x\n",
        "else:\n",
        "  fx = x\n",
        "print(\"f(x):\",fx)"
      ]
    },
    {
      "cell_type": "code",
      "source": [
        "#Methods C\n",
        "nums = [1,2,3,4,5,6,7,8,9,10]\n",
        "beeg = max(nums)\n",
        "smol = min(nums)\n",
        "print(\"Largest:\",beeg)\n",
        "print(\"Smallest:\",smol)"
      ],
      "metadata": {
        "colab": {
          "base_uri": "https://localhost:8080/"
        },
        "id": "xkcctkyn_p_b",
        "outputId": "96b1bd5b-7873-4b99-bb11-db03f0f6aa9d"
      },
      "execution_count": 15,
      "outputs": [
        {
          "output_type": "stream",
          "name": "stdout",
          "text": [
            "Largest: 10\n",
            "Smallest: 1\n"
          ]
        }
      ]
    }
  ]
}