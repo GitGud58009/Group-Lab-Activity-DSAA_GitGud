{
  "nbformat": 4,
  "nbformat_minor": 0,
  "metadata": {
    "colab": {
      "provenance": [],
      "authorship_tag": "ABX9TyOkNDvsQ0pVYij4MxHm3DTn",
      "include_colab_link": true
    },
    "kernelspec": {
      "name": "python3",
      "display_name": "Python 3"
    },
    "language_info": {
      "name": "python"
    }
  },
  "cells": [
    {
      "cell_type": "markdown",
      "metadata": {
        "id": "view-in-github",
        "colab_type": "text"
      },
      "source": [
        "<a href=\"https://colab.research.google.com/github/GitGud58009/Group-Lab-Activity-DSAA_GitGud/blob/main/DSA_Lab_3.ipynb\" target=\"_parent\"><img src=\"https://colab.research.google.com/assets/colab-badge.svg\" alt=\"Open In Colab\"/></a>"
      ]
    },
    {
      "cell_type": "code",
      "execution_count": 4,
      "metadata": {
        "colab": {
          "base_uri": "https://localhost:8080/"
        },
        "id": "1TcHuGWidN_4",
        "outputId": "3b1fd884-54fa-47bf-a790-0da0a8fa6d8f"
      },
      "outputs": [
        {
          "output_type": "stream",
          "name": "stdout",
          "text": [
            "Sum of even test scores: 186\n"
          ]
        }
      ],
      "source": [
        "scores = [26, 49, 98, 87, 62, 75]\n",
        "total = 0\n",
        "for score in scores:\n",
        "    if score % 2 == 0:\n",
        "       total += score\n",
        "print(\"Sum of even test scores:\", total)"
      ]
    }
  ]
}