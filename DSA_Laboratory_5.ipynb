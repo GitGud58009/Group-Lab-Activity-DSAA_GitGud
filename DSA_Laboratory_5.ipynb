{
  "nbformat": 4,
  "nbformat_minor": 0,
  "metadata": {
    "colab": {
      "provenance": [],
      "authorship_tag": "ABX9TyN4MfBw2rGCHKM99btS/Arg",
      "include_colab_link": true
    },
    "kernelspec": {
      "name": "python3",
      "display_name": "Python 3"
    },
    "language_info": {
      "name": "python"
    }
  },
  "cells": [
    {
      "cell_type": "markdown",
      "metadata": {
        "id": "view-in-github",
        "colab_type": "text"
      },
      "source": [
        "<a href=\"https://colab.research.google.com/github/GitGud58009/Group-Lab-Activity-DSAA_GitGud/blob/main/DSA_Laboratory_5.ipynb\" target=\"_parent\"><img src=\"https://colab.research.google.com/assets/colab-badge.svg\" alt=\"Open In Colab\"/></a>"
      ]
    },
    {
      "cell_type": "code",
      "execution_count": 1,
      "metadata": {
        "colab": {
          "base_uri": "https://localhost:8080/"
        },
        "id": "02gKxK6la53Q",
        "outputId": "551ea9b8-764e-4fbb-f4a3-db3f64d04658"
      },
      "outputs": [
        {
          "output_type": "stream",
          "name": "stdout",
          "text": [
            "array = [8, 54, 37, 100, 1, 33, 41, 42, 6, 91]\n",
            "array[0] = 8\n",
            "array[1] = 54\n",
            "array[2] = 37\n",
            "array[3] = 100\n",
            "array[4] = 1\n",
            "array[5] = 33\n",
            "array[6] = 41\n",
            "array[7] = 42\n",
            "array[8] = 6\n",
            "array[9] = 91\n",
            "The sum of the integers in the array is: 413\n"
          ]
        }
      ],
      "source": [
        "# Write a Python program to create an array of 10 integers and display the array\n",
        "# items. Access individual elements through indexes and compute for the sum.\n",
        "import random\n",
        "array=[]\n",
        "sum=0\n",
        "x=0\n",
        "for i in range(10):\n",
        "  array.append(random.randint(0,100))\n",
        "print(\"array =\",array)\n",
        "\n",
        "for i in array:\n",
        "  print(\"array[\"+ str(x) + \"] = \" +str(i))\n",
        "  sum+=i\n",
        "  x+=1\n",
        "print(\"The sum of the integers in the array is:\", sum)"
      ]
    },
    {
      "cell_type": "code",
      "source": [
        "# Write a Python program to append a new item to the end of the array.\n",
        "# Original array: numbers = [1, 2, 3, 4, 5, 6, 7, 8, 9, 10]\n",
        "numbers = [1, 2, 3, 4, 5, 6, 7, 8, 9, 10]\n",
        "numbers.append(\"new item\")\n",
        "print(numbers)"
      ],
      "metadata": {
        "colab": {
          "base_uri": "https://localhost:8080/"
        },
        "id": "Pw-iyryCb5SW",
        "outputId": "3fe87f57-beb4-4cfb-9348-045039863c84"
      },
      "execution_count": 2,
      "outputs": [
        {
          "output_type": "stream",
          "name": "stdout",
          "text": [
            "[1, 2, 3, 4, 5, 6, 7, 8, 9, 10, 'new item']\n"
          ]
        }
      ]
    },
    {
      "cell_type": "code",
      "source": [
        "# Write a Python program to insert a new item before the second element in an\n",
        "# existing array. Original array: numbers = [1, 2, 3, 4, 5, 6, 7, 8, 9, 10]\n",
        "numbers = [1, 2, 3, 4, 5, 6, 7, 8, 9, 10]\n",
        "numbers.insert(1,\"new item\")\n",
        "print(numbers)"
      ],
      "metadata": {
        "id": "pikcTANugRZq",
        "colab": {
          "base_uri": "https://localhost:8080/"
        },
        "outputId": "5dcf5a05-f7fd-4ac8-dd7b-32f7c0533df0"
      },
      "execution_count": 3,
      "outputs": [
        {
          "output_type": "stream",
          "name": "stdout",
          "text": [
            "[1, 'new item', 2, 3, 4, 5, 6, 7, 8, 9, 10]\n"
          ]
        }
      ]
    },
    {
      "cell_type": "code",
      "source": [
        "# Write a Python program to reverse the order of the items in the array.\n",
        "# Original array: numbers = [5, 4, 3, 2, 1]\n",
        "numbers = [5, 4, 3, 2, 1]\n",
        "numbers.reverse()\n",
        "print(numbers)"
      ],
      "metadata": {
        "id": "DafIQjMmgU2P",
        "colab": {
          "base_uri": "https://localhost:8080/"
        },
        "outputId": "59410bfc-aecc-4e46-9b1a-94354eb28f18"
      },
      "execution_count": 4,
      "outputs": [
        {
          "output_type": "stream",
          "name": "stdout",
          "text": [
            "[1, 2, 3, 4, 5]\n"
          ]
        }
      ]
    },
    {
      "cell_type": "code",
      "source": [
        "# Write a Python program to get the length of the array.\n",
        "# Original array: numbers = [5, 4, 3, 2, 1]\n",
        "numbers = [5, 4, 3, 2, 1]\n",
        "print(len(numbers))"
      ],
      "metadata": {
        "id": "TG6k2nCBgZNa",
        "colab": {
          "base_uri": "https://localhost:8080/"
        },
        "outputId": "aeaa1b1d-f63a-448b-de5a-5044a1ac68d1"
      },
      "execution_count": 5,
      "outputs": [
        {
          "output_type": "stream",
          "name": "stdout",
          "text": [
            "5\n"
          ]
        }
      ]
    }
  ]
}