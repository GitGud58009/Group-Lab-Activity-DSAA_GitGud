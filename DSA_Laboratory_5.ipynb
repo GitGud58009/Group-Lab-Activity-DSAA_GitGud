{
  "nbformat": 4,
  "nbformat_minor": 0,
  "metadata": {
    "colab": {
      "provenance": [],
      "authorship_tag": "ABX9TyPD6rI+VAvqXZnk8yfCS1UK",
      "include_colab_link": true
    },
    "kernelspec": {
      "name": "python3",
      "display_name": "Python 3"
    },
    "language_info": {
      "name": "python"
    }
  },
  "cells": [
    {
      "cell_type": "markdown",
      "metadata": {
        "id": "view-in-github",
        "colab_type": "text"
      },
      "source": [
        "<a href=\"https://colab.research.google.com/github/GitGud58009/Group-Lab-Activity-DSAA_GitGud/blob/main/DSA_Laboratory_5.ipynb\" target=\"_parent\"><img src=\"https://colab.research.google.com/assets/colab-badge.svg\" alt=\"Open In Colab\"/></a>"
      ]
    },
    {
      "cell_type": "code",
      "execution_count": 2,
      "metadata": {
        "colab": {
          "base_uri": "https://localhost:8080/"
        },
        "id": "02gKxK6la53Q",
        "outputId": "ce04d82f-183e-41c8-baf0-9e899dd34867"
      },
      "outputs": [
        {
          "output_type": "stream",
          "name": "stdout",
          "text": [
            "array = [59, 74, 68, 41, 93, 80, 5, 55, 89, 16]\n",
            "array[0] = 59\n",
            "array[1] = 74\n",
            "array[2] = 68\n",
            "array[3] = 41\n",
            "array[4] = 93\n",
            "array[5] = 80\n",
            "array[6] = 5\n",
            "array[7] = 55\n",
            "array[8] = 89\n",
            "array[9] = 16\n",
            "The sum of the integers in the array is: 580\n"
          ]
        }
      ],
      "source": [
        "#Write a Python program to create an array of 10 integers and display the array items. Access individual elements through indexes and compute for the sum.\n",
        "import random\n",
        "array=[]\n",
        "sum=0\n",
        "x=0\n",
        "for i in range(10):\n",
        "  array.append(random.randint(0,100))\n",
        "\n",
        "print(\"array =\",array)\n",
        "for i in array:\n",
        "  print(\"array[\"+ str(x) + \"] = \" +str(i))\n",
        "  sum+=i\n",
        "  x+=1\n",
        "\n",
        "print(\"The sum of the integers in the array is:\", sum)\n"
      ]
    },
    {
      "cell_type": "code",
      "source": [
        "#Write a Python program to append a new item to the end of the array. Original array: numbers = [1, 2, 3, 4, 5, 6, 7, 8, 9, 10]\n",
        "numbers = [1, 2, 3, 4, 5, 6, 7, 8, 9, 10]\n",
        "numbers.append(\"new item\")\n",
        "print(numbers)"
      ],
      "metadata": {
        "colab": {
          "base_uri": "https://localhost:8080/"
        },
        "id": "Pw-iyryCb5SW",
        "outputId": "c077ef57-11c5-41c8-b478-6cca819905b5"
      },
      "execution_count": null,
      "outputs": [
        {
          "output_type": "stream",
          "name": "stdout",
          "text": [
            "[1, 2, 3, 4, 5, 6, 7, 8, 9, 10, 'new item']\n"
          ]
        }
      ]
    },
    {
      "cell_type": "code",
      "source": [
        "#Write a Python program to insert a new item before the second element in an existing array. Original array: numbers = [1, 2, 3, 4, 5, 6, 7, 8, 9, 10]\n",
        "numbers = [1, 2, 3, 4, 5, 6, 7, 8, 9, 10]\n",
        "numbers.insert(1,\"new item\")\n",
        "print(numbers)"
      ],
      "metadata": {
        "id": "pikcTANugRZq"
      },
      "execution_count": null,
      "outputs": []
    },
    {
      "cell_type": "code",
      "source": [
        "#Write a Python program to reverse the order of the items in the array.Original array: numbers = [5, 4, 3, 2, 1]\n",
        "numbers = [5, 4, 3, 2, 1]\n",
        "numbers.reverse()\n",
        "print(numbers)"
      ],
      "metadata": {
        "id": "DafIQjMmgU2P"
      },
      "execution_count": null,
      "outputs": []
    },
    {
      "cell_type": "code",
      "source": [
        "#Write a Python program to get the length of the array. Original array: numbers = [5, 4, 3, 2, 1]\n",
        "numbers = [5, 4, 3, 2, 1]\n",
        "print(len(numbers))\n"
      ],
      "metadata": {
        "id": "TG6k2nCBgZNa"
      },
      "execution_count": null,
      "outputs": []
    }
  ]
}