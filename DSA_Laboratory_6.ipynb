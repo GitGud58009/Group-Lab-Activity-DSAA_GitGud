{
  "nbformat": 4,
  "nbformat_minor": 0,
  "metadata": {
    "colab": {
      "provenance": [],
      "authorship_tag": "ABX9TyOnrYmkEF4c78jgr5DQBCVH",
      "include_colab_link": true
    },
    "kernelspec": {
      "name": "python3",
      "display_name": "Python 3"
    },
    "language_info": {
      "name": "python"
    }
  },
  "cells": [
    {
      "cell_type": "markdown",
      "metadata": {
        "id": "view-in-github",
        "colab_type": "text"
      },
      "source": [
        "<a href=\"https://colab.research.google.com/github/GitGud58009/Group-Lab-Activity-DSAA_GitGud/blob/main/DSA_Laboratory_6.ipynb\" target=\"_parent\"><img src=\"https://colab.research.google.com/assets/colab-badge.svg\" alt=\"Open In Colab\"/></a>"
      ]
    },
    {
      "cell_type": "code",
      "execution_count": null,
      "metadata": {
        "colab": {
          "base_uri": "https://localhost:8080/"
        },
        "id": "19in0JqOj55z",
        "outputId": "b038c0c4-ee89-4d30-f20b-4784e71d62f7"
      },
      "outputs": [
        {
          "output_type": "stream",
          "name": "stdout",
          "text": [
            "Final state of the list: e -> d -> b -> f -> c -> a\n",
            "Encoded Sequence: [0, 1, 2, 3, 4, 5, 5, 4, 2, 5, 5, 5]\n"
          ]
        }
      ],
      "source": [
        "class Node:\n",
        "    def __init__(self, data):\n",
        "        self.data = data\n",
        "        self.next = None\n",
        "\n",
        "class move_to_front_heuristic:\n",
        "    def __init__(self):\n",
        "        self.head = None\n",
        "        self.code_stream=[]\n",
        "\n",
        "    def printList(self):\n",
        "        print(\"Final state of the list: \", end=\"\")\n",
        "        temp = self.head\n",
        "        while temp:\n",
        "            print(temp.data, end=\"\")\n",
        "            if temp.next is not None:\n",
        "                print(\" -> \", end=\"\")\n",
        "            temp = temp.next\n",
        "        print(\"\\nEncoded Sequence:\", self.code_stream)\n",
        "\n",
        "    def append(self, data):\n",
        "        new_node = Node(data)\n",
        "        if self.head is None:\n",
        "            self.head = new_node\n",
        "        else:\n",
        "            new_node = Node(data)\n",
        "            temp = self.head\n",
        "            while temp.next:\n",
        "                temp = temp.next\n",
        "            temp.next = new_node\n",
        "            new_node.next = None\n",
        "\n",
        "    def MTF(self, key, elements):\n",
        "        newllist = elements\n",
        "        prevllist = newllist\n",
        "        temp = self.head\n",
        "        prev = None\n",
        "\n",
        "        # Search for the accessed element in the linked list\n",
        "        while temp and temp.data != key:\n",
        "            prev = temp\n",
        "            temp = temp.next\n",
        "        x = temp.data\n",
        "        # If the accessed element is not present, do nothing\n",
        "        if temp is None:\n",
        "            return\n",
        "\n",
        "        # Move the found node to the front\n",
        "        if prev is not None:\n",
        "            prev.next = temp.next\n",
        "            temp.next = self.head\n",
        "            self.head = temp\n",
        "\n",
        "        # encoded sequence\n",
        "        self.code_stream.append(prevllist.index(key))\n",
        "        newllist.clear()\n",
        "\n",
        "        # new state of list\n",
        "        temp = self.head\n",
        "        while temp:\n",
        "            newllist.append(temp.data)\n",
        "            temp = temp.next\n",
        "\n",
        "llist = move_to_front_heuristic()\n",
        "elements = ['a', 'b', 'c', 'd', 'e', 'f']\n",
        "for letter in elements:\n",
        "    llist.append(letter)\n",
        "sequence = ['a', 'b', 'c', 'd', 'e', 'f', 'a', 'c', 'f', 'b', 'd', 'e']\n",
        "for access in sequence:\n",
        "    llist.MTF(access, elements)\n",
        "llist.printList()"
      ]
    },
    {
      "cell_type": "code",
      "source": [
        "class Node:\n",
        "    def __init__(self, data):\n",
        "        self.data = data    # = to data passed in\n",
        "        self.next = None\n",
        "        self.prev = None\n",
        "\n",
        "class DoublyLinkedList:\n",
        "    def __init__(self):\n",
        "        self.head = None\n",
        "        self.prev = None\n",
        "\n",
        "    # function to append items\n",
        "    def append(self, data):\n",
        "        if self.head is None:\n",
        "            new_node = Node(data)\n",
        "            new_node.prev = None\n",
        "            self.head = new_node\n",
        "        else:\n",
        "            new_node = Node(data)\n",
        "            temp = self.head\n",
        "            while(temp.next):\n",
        "                temp = temp.next\n",
        "            temp.next = new_node\n",
        "            new_node.prev = temp\n",
        "            new_node.next = None\n",
        "\n",
        "    # function to insert items in front\n",
        "    def prepend(self,data):\n",
        "      if self.head is None:\n",
        "          new_node = Node(data)\n",
        "          new_node.prev = None\n",
        "          self.head = new_node\n",
        "      else:\n",
        "          new_node = Node(data)\n",
        "          self.head.prev = new_node\n",
        "          new_node.next = self.head\n",
        "          self.head = new_node\n",
        "          new_node.prev = None\n",
        "\n",
        "    # function to count number of items\n",
        "    def count_items(self):\n",
        "        count = 0\n",
        "        current = self.head\n",
        "        while current:\n",
        "            count += 1\n",
        "            current = current.next\n",
        "        print('\\nNumber of Items:', count)\n",
        "\n",
        "    #print linked-list\n",
        "    def printlist(self):\n",
        "        temp = self.head\n",
        "        while temp:\n",
        "            print(temp.data, end=\"\")\n",
        "            if temp.next is not None:\n",
        "                print(\" -> \", end=\"\")\n",
        "            temp = temp.next\n",
        "\n",
        "    # rint in reverse order\n",
        "    def reverse(self):\n",
        "      x = None\n",
        "      temp = self.head\n",
        "      while temp: #while temp is not null/None\n",
        "          holder = temp.prev\n",
        "          temp.prev = temp.next\n",
        "          temp.next = holder\n",
        "          temp = temp.prev\n",
        "      if holder:    #if holder is not null/None\n",
        "          self.head = holder.prev\n",
        "      self.printlist()\n",
        "\n",
        "dllist = DoublyLinkedList()\n",
        "dllist.append(1)\n",
        "dllist.append(2)\n",
        "dllist.append(3)\n",
        "print(\"Linked list: \", end=\"\")\n",
        "dllist.printlist()\n",
        "dllist.count_items()\n",
        "dllist.prepend(0)\n",
        "print(\"Linked list: \", end=\"\")\n",
        "dllist.printlist()\n",
        "print(\"\\nReversed list: \", end=\"\")\n",
        "dllist.reverse()\n",
        "dllist.count_items()"
      ],
      "metadata": {
        "colab": {
          "base_uri": "https://localhost:8080/"
        },
        "id": "PMzsXtyykJuO",
        "outputId": "b2a1d6d9-24b9-48c9-bef6-35a9f314984b"
      },
      "execution_count": 1,
      "outputs": [
        {
          "output_type": "stream",
          "name": "stdout",
          "text": [
            "Linked list: 1 -> 2 -> 3\n",
            "Number of Items: 3\n",
            "Linked list: 0 -> 1 -> 2 -> 3\n",
            "Reversed list: 3 -> 2 -> 1 -> 0\n",
            "Number of Items: 4\n"
          ]
        }
      ]
    }
  ]
}