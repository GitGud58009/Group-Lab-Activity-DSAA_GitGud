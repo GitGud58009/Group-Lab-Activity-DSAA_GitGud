{
  "nbformat": 4,
  "nbformat_minor": 0,
  "metadata": {
    "colab": {
      "provenance": [],
      "authorship_tag": "ABX9TyPorKOwZTdjoxLD/jDDLZff",
      "include_colab_link": true
    },
    "kernelspec": {
      "name": "python3",
      "display_name": "Python 3"
    },
    "language_info": {
      "name": "python"
    }
  },
  "cells": [
    {
      "cell_type": "markdown",
      "metadata": {
        "id": "view-in-github",
        "colab_type": "text"
      },
      "source": [
        "<a href=\"https://colab.research.google.com/github/GitGud58009/Group-Lab-Activity-DSAA_GitGud/blob/main/DSA_Laboratory_8.ipynb\" target=\"_parent\"><img src=\"https://colab.research.google.com/assets/colab-badge.svg\" alt=\"Open In Colab\"/></a>"
      ]
    },
    {
      "cell_type": "code",
      "source": [
        "def create_stack():\n",
        "  stack = []\n",
        "  return stack\n",
        "\n",
        "def is_empty(stack):\n",
        "  return len(stack)==0\n",
        "\n",
        "def push(stack,item):\n",
        "  stack.append(item)\n",
        "  print(\"Pushed Element\" + item)\n",
        "\n",
        "def pop(stack):\n",
        "  if (is_empty(stack)):\n",
        "    return \"the stack is empty\"\n",
        "  return stack.pop()\n",
        "\n",
        "stack = create_stack()\n",
        "push(stack,str(1))\n",
        "push(stack,str(2))\n",
        "push(stack,str(3))\n",
        "push(stack,str(4))\n",
        "push(stack,str(5))\n",
        "print(\"The elements in the stack are:\" + str(stack))"
      ],
      "metadata": {
        "colab": {
          "base_uri": "https://localhost:8080/"
        },
        "id": "l-ISuOL7ElSS",
        "outputId": "c5180442-7037-4ca9-b748-cf1f62804b8c"
      },
      "execution_count": 2,
      "outputs": [
        {
          "output_type": "stream",
          "name": "stdout",
          "text": [
            "Pushed Element1\n",
            "Pushed Element2\n",
            "Pushed Element3\n",
            "Pushed Element4\n",
            "Pushed Element5\n",
            "The elements in the stack are:['1', '2', '3', '4', '5']\n"
          ]
        }
      ]
    },
    {
      "cell_type": "code",
      "execution_count": 5,
      "metadata": {
        "colab": {
          "base_uri": "https://localhost:8080/"
        },
        "id": "tDGtIco_D51X",
        "outputId": "7fb9642c-13c1-489c-ef40-69cb1cddb12e"
      },
      "outputs": [
        {
          "output_type": "stream",
          "name": "stdout",
          "text": [
            "Queued Element: 1\n",
            "Queued Element: 2\n",
            "Queued Element: 3\n",
            "Queued Element: 4\n",
            "Queued Element: 5\n",
            "The elements in the queue are:['1', '2', '3', '4', '5']\n",
            "Dequeued Element: 1\n",
            "Dequeued Element: 2\n",
            "Dequeued Element: 3\n",
            "Dequeued Element: 4\n",
            "Dequeued Element: 5\n",
            "the queue is empty\n"
          ]
        }
      ],
      "source": [
        "def create_queue():\n",
        "  queue = []\n",
        "  return queue\n",
        "\n",
        "def is_empty(queue):\n",
        "  return len(queue)==0\n",
        "\n",
        "def enqueue(queue,item):\n",
        "  queue.append(item)\n",
        "  print(\"Queued Element: \" + item)\n",
        "\n",
        "def dequeue(queue):\n",
        "  if (is_empty(queue)):\n",
        "    return \"the queue is empty\"\n",
        "  return \"Dequeued Element: \" + queue.pop(0)\n",
        "\n",
        "queue = create_queue()\n",
        "enqueue(queue,str(1))\n",
        "enqueue(queue,str(2))\n",
        "enqueue(queue,str(3))\n",
        "enqueue(queue,str(4))\n",
        "enqueue(queue,str(5))\n",
        "print(\"The elements in the queue are:\" + str(queue))\n",
        "print(dequeued(queue))\n",
        "print(dequeued(queue))\n",
        "print(dequeued(queue))\n",
        "print(dequeued(queue))\n",
        "print(dequeued(queue))\n",
        "print(dequeued(queue))"
      ]
    }
  ]
}