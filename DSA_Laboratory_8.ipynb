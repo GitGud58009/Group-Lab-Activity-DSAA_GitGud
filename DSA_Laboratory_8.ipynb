{
  "nbformat": 4,
  "nbformat_minor": 0,
  "metadata": {
    "colab": {
      "provenance": [],
      "authorship_tag": "ABX9TyPSZ2bYqgyehfEH3VuPheMB",
      "include_colab_link": true
    },
    "kernelspec": {
      "name": "python3",
      "display_name": "Python 3"
    },
    "language_info": {
      "name": "python"
    }
  },
  "cells": [
    {
      "cell_type": "markdown",
      "metadata": {
        "id": "view-in-github",
        "colab_type": "text"
      },
      "source": [
        "<a href=\"https://colab.research.google.com/github/GitGud58009/Group-Lab-Activity-DSAA_GitGud/blob/main/DSA_Laboratory_8.ipynb\" target=\"_parent\"><img src=\"https://colab.research.google.com/assets/colab-badge.svg\" alt=\"Open In Colab\"/></a>"
      ]
    },
    {
      "cell_type": "code",
      "execution_count": null,
      "metadata": {
        "colab": {
          "base_uri": "https://localhost:8080/"
        },
        "id": "l2gYgEnFM7eZ",
        "outputId": "6958857d-46dd-44d8-b9b6-853607c6266f"
      },
      "outputs": [
        {
          "output_type": "stream",
          "name": "stdout",
          "text": [
            "Pushed Element1\n",
            "Pushed Element2\n",
            "Pushed Element3\n",
            "Pushed Element4\n",
            "Pushed Element5\n"
          ]
        }
      ],
      "source": [
        "def create_stack():\n",
        "  stack = []\n",
        "  return stack\n",
        "\n",
        "def is_empty(stack):\n",
        "  return len(stack)==0\n",
        "\n",
        "def push(stack,item):\n",
        "  stack.append(item)\n",
        "  print(\"Pushed Element\" + item)\n",
        "\n",
        "def pop(stack):\n",
        "  if (is_empty(stack)):\n",
        "    return \"the stack is empty\"\n",
        "  return stack.pop()\n",
        "\n",
        "stack = create_stack()\n",
        "push(stack,str(1))\n",
        "push(stack,str(2))\n",
        "push(stack,str(3))\n",
        "push(stack,str(4))\n",
        "push(stack,str(5))\n"
      ]
    },
    {
      "cell_type": "code",
      "source": [
        "def create_queue():\n",
        "  queue = []\n",
        "  return queue\n",
        "\n",
        "def is_empty(queue):\n",
        "  return len(queue)==0\n",
        "\n",
        "def enqueue(queue,item):\n",
        "  queue.append(item)\n",
        "  print(\"Queued Element\" + item)\n",
        "\n",
        "def dequeued(queue):\n",
        "  if (is_empty(queue)):\n",
        "    return \"the queue is empty\"\n",
        "  return queue.pop(0)\n",
        "\n",
        "queue = create_queue()\n",
        "\n",
        "enqueue(queue,str(1))\n",
        "enqueue(queue,str(2))\n",
        "enqueue(queue,str(3))\n",
        "enqueue(queue,str(4))\n",
        "enqueue(queue,str(5))\n",
        "\n",
        "print(dequeued(queue))\n",
        "print(dequeued(queue))\n",
        "print(dequeued(queue))\n",
        "print(dequeued(queue))\n",
        "print(dequeued(queue))\n",
        "\n",
        "print(dequeued(queue))\n",
        "\n"
      ],
      "metadata": {
        "colab": {
          "base_uri": "https://localhost:8080/"
        },
        "id": "iaXd4gg4N8Yh",
        "outputId": "cde80348-4280-4b67-cc27-2453c494f439"
      },
      "execution_count": null,
      "outputs": [
        {
          "output_type": "stream",
          "name": "stdout",
          "text": [
            "Queued Element1\n",
            "Queued Element2\n",
            "Queued Element3\n",
            "Queued Element4\n",
            "Queued Element5\n",
            "1\n",
            "2\n",
            "3\n",
            "4\n",
            "5\n",
            "the queue is empty\n"
          ]
        }
      ]
    },
    {
      "cell_type": "code",
      "source": [],
      "metadata": {
        "id": "SUsvT5uvQTPw"
      },
      "execution_count": null,
      "outputs": []
    }
  ]
}