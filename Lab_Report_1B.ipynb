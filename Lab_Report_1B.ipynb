{
  "nbformat": 4,
  "nbformat_minor": 0,
  "metadata": {
    "colab": {
      "provenance": [],
      "authorship_tag": "ABX9TyOh0yEWDCMRtF1E/PduhOFc",
      "include_colab_link": true
    },
    "kernelspec": {
      "name": "python3",
      "display_name": "Python 3"
    },
    "language_info": {
      "name": "python"
    }
  },
  "cells": [
    {
      "cell_type": "markdown",
      "metadata": {
        "id": "view-in-github",
        "colab_type": "text"
      },
      "source": [
        "<a href=\"https://colab.research.google.com/github/GitGud58009/Group-Lab-Activity-DSAA_GitGud/blob/main/Lab_Report_1B.ipynb\" target=\"_parent\"><img src=\"https://colab.research.google.com/assets/colab-badge.svg\" alt=\"Open In Colab\"/></a>"
      ]
    },
    {
      "cell_type": "code",
      "execution_count": 30,
      "metadata": {
        "colab": {
          "base_uri": "https://localhost:8080/"
        },
        "id": "3q3NNwce3rmX",
        "outputId": "2fc0d585-be78-4dd9-b9eb-57a58f6cd8e9"
      },
      "outputs": [
        {
          "output_type": "stream",
          "name": "stdout",
          "text": [
            "\n",
            "Name: Triangle \n",
            "No of Sides: 3 \n",
            "Area: 10\n",
            "\n",
            "Name: Quadrilateral \n",
            "No of Sides: 4 \n",
            "Area: 15\n",
            "\n",
            "Name: Pentagon \n",
            "No of Sides: 5 \n",
            "Area: 20\n",
            "\n",
            "Name set to: Hexagon\n",
            "\n",
            "No of sides set to: 6\n",
            "\n",
            "Area set to: 1\n",
            "\n",
            "Name: Hexagon \n",
            "No of Sides: 6 \n",
            "Area: 1\n"
          ]
        }
      ],
      "source": [
        "class Polygon():\n",
        "  def __init__(self, name: str=\"\", no_sides: int=0, area: float=0):\n",
        "    self._name = name\n",
        "    self._no_sides = no_sides\n",
        "    self._area = area\n",
        "\n",
        "  def set_name(self, name):\n",
        "    self._name = name\n",
        "    print(\"\\nName set to:\",self._name)\n",
        "\n",
        "  def set_no_sides(self, no_sides):\n",
        "    self._no_sides = no_sides\n",
        "    print(\"\\nNo of sides set to:\",self._no_sides)\n",
        "\n",
        "  def set_area(self, area):\n",
        "    self._area = area\n",
        "    print(\"\\nArea set to:\",self._area)\n",
        "\n",
        "  def retrieve_name(self):\n",
        "    return self._name\n",
        "\n",
        "  def retrieve_no_sides(self):\n",
        "    return self._no_sides\n",
        "\n",
        "  def retrieve_area(self):\n",
        "    return self._area\n",
        "\n",
        "poly1 = Polygon(\"Triangle\", 3, 10)\n",
        "print(\"\\nName:\", poly1.retrieve_name(), \"\\nNo of Sides:\", poly1.retrieve_no_sides(), \"\\nArea:\", poly1.retrieve_area())\n",
        "\n",
        "poly2 = Polygon(\"Quadrilateral\", 4, 15)\n",
        "print(\"\\nName:\", poly2.retrieve_name(), \"\\nNo of Sides:\", poly2.retrieve_no_sides(), \"\\nArea:\", poly2.retrieve_area())\n",
        "\n",
        "poly3 = Polygon(\"Pentagon\", 5, 20)\n",
        "print(\"\\nName:\", poly3.retrieve_name(), \"\\nNo of Sides:\", poly3.retrieve_no_sides(), \"\\nArea:\", poly3.retrieve_area())\n",
        "\n",
        "poly3.set_name(\"Hexagon\")\n",
        "poly3.set_no_sides(6)\n",
        "poly3.set_area(1)\n",
        "print(\"\\nName:\", poly3.retrieve_name(), \"\\nNo of Sides:\", poly3.retrieve_no_sides(), \"\\nArea:\", poly3.retrieve_area())"
      ]
    }
  ]
}